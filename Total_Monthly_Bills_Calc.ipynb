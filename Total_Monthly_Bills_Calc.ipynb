{
 "cells": [
  {
   "cell_type": "code",
   "execution_count": 5,
   "metadata": {},
   "outputs": [
    {
     "name": "stdout",
     "output_type": "stream",
     "text": [
      "--- Enter Your Monthly Bills ---\n",
      "Electricity: 115\n",
      "Phone: 95\n",
      "Car Payment: 551\n",
      "Insurance: 386\n",
      "Rent: 840\n",
      "Subscriptions: 60\n",
      "Credit Card Payment: 50\n",
      "Extra Debt Owed: 200\n",
      "Other Bills: 0\n",
      "\n",
      "Total Monthly Bills: $2297.00\n",
      "\n",
      "--- Enter Your Monthly Income ---\n",
      "Primary Income: 1920\n",
      "Secondary Income: 600\n",
      "Extra Income: 5\n",
      "Total Monthly Income: $2525.00\n",
      "\n",
      "--- Budget Summary ---\n",
      "You have enough to pay your bills this month! You will have $228.00 left over.\n"
     ]
    }
   ],
   "source": [
    "def calculate_monthly_budget():\n",
    "    \"\"\"Calculates total monthly bills, total monthly income, and the leftover income.\"\"\"\n",
    "\n",
    "    # --- Define Variables for Bills ---\n",
    "    print(\"--- Enter Your Monthly Bills ---\")\n",
    "    electricity_bill = int(input('Electricity: '))\n",
    "    phone_bill = int(input('Phone: '))\n",
    "    car_payment = int(input('Car Payment: '))\n",
    "    insurance_cost = int(input('Insurance: '))\n",
    "    rent_payment = int(input('Rent: '))\n",
    "    subscriptions_cost = int(input('Subscriptions: '))\n",
    "    credit_card_payment = int(input('Credit Card Payment: '))\n",
    "    extra_debt_payment = int(input('Extra Debt Owed: '))\n",
    "    extra_bills_cost = int(input('Other Bills: '))\n",
    "\n",
    "    total_bills = (electricity_bill + phone_bill + car_payment + insurance_cost +\n",
    "                   rent_payment + subscriptions_cost + credit_card_payment +\n",
    "                   extra_debt_payment + extra_bills_cost)\n",
    "\n",
    "    print(f'\\nTotal Monthly Bills: ${total_bills:.2f}')\n",
    "\n",
    "    # --- Define Variables for Income ---\n",
    "    print(\"\\n--- Enter Your Monthly Income ---\")\n",
    "    primary_income = int(input('Primary Income: '))\n",
    "    secondary_income = int(input('Secondary Income: '))\n",
    "    extra_income = int(input('Extra Income: '))\n",
    "\n",
    "    total_income = primary_income + secondary_income + extra_income\n",
    "    print(f'Total Monthly Income: ${total_income:.2f}')\n",
    "\n",
    "    # --- Calculate Leftover Income and Provide Feedback ---\n",
    "    leftover_income = total_income - total_bills\n",
    "\n",
    "    print(\"\\n--- Budget Summary ---\")\n",
    "    if total_income > total_bills:\n",
    "        print(f'You have enough to pay your bills this month! '\n",
    "              f'You will have ${leftover_income:.2f} left over.')\n",
    "    else:\n",
    "        print(f'You do not have enough money this month. '\n",
    "              f'You need ${abs(leftover_income):.2f} more to cover all your bills.')\n",
    "\n",
    "if __name__ == \"__main__\":\n",
    "    calculate_monthly_budget()"
   ]
  }
 ],
 "metadata": {
  "kernelspec": {
   "display_name": "Python 3",
   "language": "python",
   "name": "python3"
  },
  "language_info": {
   "codemirror_mode": {
    "name": "ipython",
    "version": 3
   },
   "file_extension": ".py",
   "mimetype": "text/x-python",
   "name": "python",
   "nbconvert_exporter": "python",
   "pygments_lexer": "ipython3",
   "version": "3.8.3"
  }
 },
 "nbformat": 4,
 "nbformat_minor": 4
}
